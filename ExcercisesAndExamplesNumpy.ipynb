{
 "cells": [
  {
   "cell_type": "markdown",
   "metadata": {
    "id": "z9dathS_lkMu"
   },
   "source": [
    "# Practicando NumPy: demos guiadas y ejercicios resueltos"
   ]
  },
  {
   "cell_type": "code",
   "execution_count": 56,
   "metadata": {
    "id": "JrciqVNelazN"
   },
   "outputs": [],
   "source": [
    "import numpy as np"
   ]
  },
  {
   "cell_type": "markdown",
   "metadata": {},
   "source": [
    "Sección 1: Construcción de un arreglo unidimensional (vector) con NumPy.\n",
    "Comentario: Un arreglo 1D tiene forma (3,) indicando 3 elementos en una dimensión. Podemos (de forma directa) acceder a elementos por índice [0] o usar segmentación (slicing) [0:2] para obtener subarrays."
   ]
  },
  {
   "cell_type": "code",
   "execution_count": 57,
   "metadata": {},
   "outputs": [
    {
     "name": "stdout",
     "output_type": "stream",
     "text": [
      "================================================================================\n",
      "EJEMPLO 1: Arrays 1D - Vector Simple\n",
      "================================================================================\n",
      "Array: [1 2 3]\n",
      "Shape: (3,)\n",
      "Primer elemento: 1\n",
      "Slice [0:2]: [1 2]\n",
      "\n"
     ]
    }
   ],
   "source": [
    "print(\"=\"*80)\n",
    "print(\"DEMO 1: Arrays 1D - Vector Simple\")\n",
    "print(\"=\"*80)\n",
    "x = np.array([1, 2, 3])\n",
    "print(\"Array:\", x)\n",
    "print(\"Shape:\", x.shape)  # tupla de dimensiones  # (3,) indica 3 elementos en una dimensión\n",
    "print(\"Primer elemento:\", x[0])  # Acceso por índice\n",
    "print(\"Slice [0:2]:\", x[0:2])  # Slicing: obtiene elementos del índice 0 al 1\n",
    "print()"
   ]
  },
  {
   "cell_type": "markdown",
   "metadata": {},
   "source": [
    "Sección 2: Arreglos 2D - Matriz (2D)\n",
    "Construcción de un arreglo bidimensional (matriz). Un arreglo 2D tiene forma (2, 3) = 2 filas y 3 columnas. Es como una tabla o matriz matemática."
   ]
  },
  {
   "cell_type": "code",
   "execution_count": 58,
   "metadata": {},
   "outputs": [
    {
     "name": "stdout",
     "output_type": "stream",
     "text": [
      "================================================================================\n",
      "EJEMPLO 2: Arrays 2D - Matriz\n",
      "================================================================================\n",
      "Array:\n",
      " [[ 5  4  2]\n",
      " [-1  0  3]]\n",
      "Shape: (2, 3)\n"
     ]
    }
   ],
   "source": [
    "print(\"=\"*80)\n",
    "print(\"DEMO 2: Arrays 2D - Matriz\")\n",
    "print(\"=\"*80)\n",
    "x = np.array([[5, 4, 2], [-1, 0, 3]])\n",
    "print(\"Array:\\n\", x)\n",
    "print(\"Shape:\", x.shape)  # tupla de dimensiones  # (2, 3) = 2 filas y 3 columnas"
   ]
  },
  {
   "cell_type": "markdown",
   "metadata": {},
   "source": [
    "Sección 3: Arreglos 3D - Tensor multidimensional\n",
    " Arreglo tridimensional, útil para imágenes o datos volumétricos\n",
    " Dimensión (3, 2, 3) significa: 3 matrices, cada una de 2 filas y 3 columnas. Piensa en ello como 3 'capas' de matrices 2x3."
   ]
  },
  {
   "cell_type": "code",
   "execution_count": 59,
   "metadata": {},
   "outputs": [
    {
     "name": "stdout",
     "output_type": "stream",
     "text": [
      "Shape: (3, 2, 3)\n",
      "Tensor:\n",
      " [[[ 5  4  2]\n",
      "  [-1  0  3]]\n",
      "\n",
      " [[ 5  4  2]\n",
      "  [-1  0  3]]\n",
      "\n",
      " [[ 5  4  2]\n",
      "  [-1  0  3]]]\n"
     ]
    }
   ],
   "source": [
    "# Crear un tensor 3D\n",
    "x = np.array([[[5, 4, 2], [-1, 0, 3]], \n",
    "              [[5, 4, 2], [-1, 0, 3]], \n",
    "              [[5, 4, 2], [-1, 0, 3]]])\n",
    "print(\"Shape:\", x.shape)  # tupla de dimensiones  # (3, 2, 3) = 3 matrices de 2x3\n",
    "print(\"Tensor:\\n\", x)"
   ]
  },
  {
   "cell_type": "markdown",
   "metadata": {},
   "source": [
    "Sección 4: Arreglos 4D - Hiperdimensional\n",
    "Arreglos de mayor dimensión, comunes en deep learning. Dimensión (5, 3, 2, 3) = 5 grupos de tensores 3D. El segmentación (slicing) y[0:2] extrae los primeros 2 grupos, resultando en shape (2, 3, 2, 3)."
   ]
  },
  {
   "cell_type": "code",
   "execution_count": 60,
   "metadata": {},
   "outputs": [
    {
     "name": "stdout",
     "output_type": "stream",
     "text": [
      "Shape de y: (5, 3, 2, 3)\n",
      "Shape de y[0:2]: (2, 3, 2, 3)\n"
     ]
    }
   ],
   "source": [
    "# Crear tensor 3D base\n",
    "x = np.array([[[5, 4, 2], [-1, 0, 3]], \n",
    "              [[5, 4, 2], [-1, 0, 3]], \n",
    "              [[5, 4, 2], [-1, 0, 3]]])\n",
    "\n",
    "# Crear tensor 4D apilando el tensor 3D\n",
    "y = np.array([x, x, x, x, x])\n",
    "print(\"Shape de y:\", y.shape)  # tupla de dimensiones  # (5, 3, 2, 3) = 5 grupos de tensores 3D\n",
    "print(\"Shape de y[0:2]:\", y[0:2].shape)  # tupla de dimensiones  # Slicing en la primera dimensión"
   ]
  },
  {
   "cell_type": "markdown",
   "metadata": {},
   "source": [
    "Sección 5: Operaciones Matriciales\n",
    "Multiplicación de matrices y matriz inversa. El operador @ hace multiplicación matricial. x.transpose() intercambia filas y columnas. La inversa multiplicada por la matriz original da la matriz identidad (1s en diagonal, 0s fuera)."
   ]
  },
  {
   "cell_type": "code",
   "execution_count": 61,
   "metadata": {},
   "outputs": [
    {
     "name": "stdout",
     "output_type": "stream",
     "text": [
      "Matriz x:\n",
      "[[ 5  4  2]\n",
      " [-1  0  3]]\n",
      "\n",
      "x @ x.T =\n",
      "[[45  1]\n",
      " [ 1 10]]\n",
      "\n",
      "Inversa de y multiplicada por y (debe dar identidad):\n",
      "[[1. 0.]\n",
      " [0. 1.]]\n"
     ]
    }
   ],
   "source": [
    "# Definir matriz\n",
    "x = np.array([[5, 4, 2], [-1, 0, 3]])\n",
    "print(\"Matriz x:\")\n",
    "print(x)\n",
    "\n",
    "# Multiplicación matricial: x @ x^T\n",
    "y = x @ x.transpose()\n",
    "print(\"\\nx @ x.T =\")\n",
    "print(y)\n",
    "\n",
    "# Verificar que Inversa * Matriz = Identidad\n",
    "print(\"\\nInversa de y multiplicada por y (debe dar identidad):\")\n",
    "resultado = np.linalg.inv(y) @ y\n",
    "print(resultado)"
   ]
  },
  {
   "cell_type": "markdown",
   "metadata": {},
   "source": [
    "Sección 6: Funciones en Python\n",
    " Las funciones pueden recibir parámetros y retornar valores. Aquí hello() imprime un mensaje y retorna 10, independientemente del parámetro recibido."
   ]
  },
  {
   "cell_type": "code",
   "execution_count": 62,
   "metadata": {},
   "outputs": [
    {
     "name": "stdout",
     "output_type": "stream",
     "text": [
      "Hello, world!\n",
      "Valor retornado: 10\n"
     ]
    }
   ],
   "source": [
    "def hello(a):\n",
    "    print(\"Hello, world!\")\n",
    "    return 10\n",
    "\n",
    "# Llamar a la función\n",
    "b = hello([3, 4])\n",
    "print(\"Valor retornado:\", b)"
   ]
  },
  {
   "cell_type": "markdown",
   "metadata": {},
   "source": [
    "Sección 7: Programación Orientada a Objetos - Clase Base\n",
    "Construcción de una clase y sus instancias.El método __init__ es el constructor. Cada instancia (x, y) tiene su propio atributo 'nombre'. El método sonido() está vacío (pass) y será implementado por las subclases"
   ]
  },
  {
   "cell_type": "code",
   "execution_count": 63,
   "metadata": {},
   "outputs": [
    {
     "name": "stdout",
     "output_type": "stream",
     "text": [
      "Animal x: Perro\n",
      "Animal y: Gato\n"
     ]
    }
   ],
   "source": [
    "class Animal:\n",
    "    def __init__(self, nombre):\n",
    "        self.nombre = nombre\n",
    "    \n",
    "    def sonido(self):\n",
    "        pass  # Método vacío, será implementado por subclases\n",
    "\n",
    "# Crear instancias\n",
    "x = Animal(\"Perro\")\n",
    "y = Animal(\"Gato\")\n",
    "\n",
    "print(\"Animal x:\", x.nombre)\n",
    "print(\"Animal y:\", y.nombre)"
   ]
  },
  {
   "cell_type": "markdown",
   "metadata": {},
   "source": [
    "Sección 8: Herencia - Subclases\n",
    "Clases que heredan de Animal e implementan sonido(). Las subclases Gato y Perro heredan de Animal pero implementan su propio método sonido(), objetos diferentes responden al mismo método de forma distinta."
   ]
  },
  {
   "cell_type": "code",
   "execution_count": 64,
   "metadata": {},
   "outputs": [
    {
     "name": "stdout",
     "output_type": "stream",
     "text": [
      "Pelusa hace Miau\n",
      "Patricio hace Guau\n"
     ]
    }
   ],
   "source": [
    "class Animal:\n",
    "    def __init__(self, nombre):\n",
    "        self.nombre = nombre\n",
    "    \n",
    "    def sonido(self):\n",
    "        pass\n",
    "\n",
    "class Gato(Animal):\n",
    "    def sonido(self):\n",
    "        return \"Miau\"\n",
    "\n",
    "class Perro(Animal):\n",
    "    def sonido(self):\n",
    "        return \"Guau\"\n",
    "\n",
    "# Crear instancias de las subclases\n",
    "a = Gato(\"Pelusa\")\n",
    "b = Perro(\"Patricio\")\n",
    "\n",
    "print(a.nombre, \"hace\", a.sonido())\n",
    "print(b.nombre, \"hace\", b.sonido())"
   ]
  },
  {
   "cell_type": "markdown",
   "metadata": {},
   "source": [
    "## EJERCICIOS PRÁCTICOS\n",
    "EJERCICIO 1: Operaciones con Arreglos\n",
    "Problema: Crea dos arreglos 1D de tamaño 5 con valores aleatorios y calcula: suma, resta, producto elemento a elemento y producto punto. NumPy permite operaciones vectorizadas. +, -, * operan elemento a elemento. np.dot() calcula el producto punto (suma de productos)."
   ]
  },
  {
   "cell_type": "code",
   "execution_count": 65,
   "metadata": {},
   "outputs": [
    {
     "name": "stdout",
     "output_type": "stream",
     "text": [
      "Array a: [0.35749533 0.77083059 0.47971366 0.01891184 0.8046525 ]\n",
      "Array b: [0.26756687 0.27390345 0.74206996 0.83614743 0.95110167]\n",
      "\n",
      "Suma: [0.62506219 1.04473404 1.22178362 0.85505927 1.75575417]\n",
      "Resta: [ 0.08992846  0.49692713 -0.2623563  -0.81723559 -0.14644917]\n",
      "Producto elemento a elemento: [0.0956539  0.21113316 0.35598109 0.01581308 0.76530633]\n",
      "Producto punto: 1.4438875768997996\n"
     ]
    }
   ],
   "source": [
    "# Crear dos arrays aleatorios\n",
    "a = np.random.rand(5)\n",
    "b = np.random.rand(5)\n",
    "\n",
    "print(\"Array a:\", a)\n",
    "print(\"Array b:\", b)\n",
    "print(\"\\nSuma:\", a + b)\n",
    "print(\"Resta:\", a - b)\n",
    "print(\"Producto elemento a elemento:\", a * b)\n",
    "print(\"Producto punto:\", np.dot(a, b))"
   ]
  },
  {
   "cell_type": "markdown",
   "metadata": {},
   "source": [
    "EJERCICIO 2: Indexación y Slicing\n",
    "Problema: Dada una matriz 4x4, extrae la submatriz del centro 2x2.\n",
    "El segmentación (slicing) [1:3, 1:3] extrae filas de índice 1 a 2 y columnas de índice 1 a 2 (el índice final no se incluye)."
   ]
  },
  {
   "cell_type": "code",
   "execution_count": 66,
   "metadata": {},
   "outputs": [
    {
     "name": "stdout",
     "output_type": "stream",
     "text": [
      "Matriz original:\n",
      "[[ 0  1  2  3]\n",
      " [ 4  5  6  7]\n",
      " [ 8  9 10 11]\n",
      " [12 13 14 15]]\n",
      "\n",
      "Centro 2x2:\n",
      "[[ 5  6]\n",
      " [ 9 10]]\n"
     ]
    }
   ],
   "source": [
    "# Crear matriz 4x4 con valores de 0 a 15\n",
    "matriz = np.arange(16).reshape(4, 4)\n",
    "print(\"Matriz original:\")\n",
    "print(matriz)\n",
    "\n",
    "# Extraer la submatriz del centro 2x2\n",
    "centro = matriz[1:3, 1:3]  # Filas 1-2, Columnas 1-2\n",
    "print(\"\\nCentro 2x2:\")\n",
    "print(centro)"
   ]
  },
  {
   "cell_type": "markdown",
   "metadata": {},
   "source": [
    "EJERCICIO 3: Broadcasting\n",
    "Problema: Suma un escalar a cada elemento de una matriz y multiplica cada fila por un vector diferente. Broadcasting permite operaciones entre arreglos de diferentes shapes. NumPy automáticamente 'expande' el escalar o vector para que coincida con la matriz."
   ]
  },
  {
   "cell_type": "code",
   "execution_count": 67,
   "metadata": {},
   "outputs": [
    {
     "name": "stdout",
     "output_type": "stream",
     "text": [
      "Matriz original:\n",
      "[[ 0  1  2  3]\n",
      " [ 4  5  6  7]\n",
      " [ 8  9 10 11]]\n",
      "\n",
      "Matriz + 10:\n",
      "[[10 11 12 13]\n",
      " [14 15 16 17]\n",
      " [18 19 20 21]]\n",
      "\n",
      "Matriz * vector [1, 2, 3, 4]:\n",
      "[[ 0  2  6 12]\n",
      " [ 4 10 18 28]\n",
      " [ 8 18 30 44]]\n"
     ]
    }
   ],
   "source": [
    "# Crear matriz 3x4\n",
    "matriz = np.arange(12).reshape(3, 4)\n",
    "print(\"Matriz original:\")\n",
    "print(matriz)\n",
    "\n",
    "# Sumar escalar (broadcasting automático)\n",
    "print(\"\\nMatriz + 10:\")\n",
    "print(matriz + 10)\n",
    "\n",
    "# Multiplicar cada fila por un vector\n",
    "vector = np.array([1, 2, 3, 4])\n",
    "print(\"\\nMatriz * vector [1, 2, 3, 4]:\")\n",
    "print(matriz * vector)"
   ]
  },
  {
   "cell_type": "markdown",
   "metadata": {},
   "source": [
    "EJERCICIO 4: Funciones de Agregación\n",
    "Problema: Calcula la media, desviación estándar, mínimo y máximo de un arreglo, tanto globalmente como por eje, axis=0 opera sobre columnas (colapsa filas), axis=1 opera sobre filas (colapsa columnas). Sin axis opera sobre todo el arreglo."
   ]
  },
  {
   "cell_type": "code",
   "execution_count": 68,
   "metadata": {},
   "outputs": [
    {
     "name": "stdout",
     "output_type": "stream",
     "text": [
      "Matriz:\n",
      "[[98 55 15 45]\n",
      " [15 98 71 26]\n",
      " [ 7 94 74 98]]\n",
      "\n",
      "Estadísticas globales:\n",
      "Media: 58.0\n",
      "Desviación Estándar: 34.18332927027442\n",
      "Mínimo: 7\n",
      "Máximo: 98\n",
      "\n",
      "Media por columnas (axis=0):\n",
      "[40.         82.33333333 53.33333333 56.33333333]\n",
      "\n",
      "Media por filas (axis=1):\n",
      "[53.25 52.5  68.25]\n"
     ]
    }
   ],
   "source": [
    "# Crear matriz 3x4 con valores aleatorios entre 0 y 100\n",
    "matriz = np.random.randint(0, 100, (3, 4))\n",
    "print(\"Matriz:\")\n",
    "print(matriz)\n",
    "\n",
    "print(\"\\nEstadísticas globales:\")\n",
    "print(\"Media:\", np.mean(matriz))\n",
    "print(\"Desviación Estándar:\", np.std(matriz))\n",
    "print(\"Mínimo:\", np.min(matriz))\n",
    "print(\"Máximo:\", np.max(matriz))\n",
    "\n",
    "print(\"\\nMedia por columnas (axis=0):\")\n",
    "print(np.mean(matriz, axis=0))\n",
    "\n",
    "print(\"\\nMedia por filas (axis=1):\")\n",
    "print(np.mean(matriz, axis=1))"
   ]
  },
  {
   "cell_type": "markdown",
   "metadata": {},
   "source": [
    "EJERCICIO 5: Reshape y Flatten\n",
    "Problema: Transforma un arreglo de diferentes formas usando reshape y flatten, reshape() cambia las dimensiones del arreglo sin modificar los datos. flatten() convierte cualquier arreglo a 1D."
   ]
  },
  {
   "cell_type": "code",
   "execution_count": 69,
   "metadata": {},
   "outputs": [
    {
     "name": "stdout",
     "output_type": "stream",
     "text": [
      "Array original: [ 0  1  2  3  4  5  6  7  8  9 10 11 12 13 14 15 16 17 18 19 20 21 22 23]\n",
      "Shape: (24,)\n",
      "\n",
      "Reshape a (2, 3, 4):\n",
      "[[[ 0  1  2  3]\n",
      "  [ 4  5  6  7]\n",
      "  [ 8  9 10 11]]\n",
      "\n",
      " [[12 13 14 15]\n",
      "  [16 17 18 19]\n",
      "  [20 21 22 23]]]\n",
      "\n",
      "Flatten (volver a 1D):\n",
      "[ 0  1  2  3  4  5  6  7  8  9 10 11 12 13 14 15 16 17 18 19 20 21 22 23]\n"
     ]
    }
   ],
   "source": [
    "# Crear array 1D con 24 elementos\n",
    "arr = np.arange(24)\n",
    "print(\"Array original:\", arr)\n",
    "print(\"Shape:\", arr.shape)  # tupla de dimensiones\n",
    "\n",
    "# Reshape a 3 dimensiones\n",
    "reshaped = arr.reshape(2, 3, 4)\n",
    "print(\"\\nReshape a (2, 3, 4):\")\n",
    "print(reshaped)\n",
    "\n",
    "# Flatten: volver a 1D\n",
    "flattened = reshaped.flatten()\n",
    "print(\"\\nFlatten (volver a 1D):\")\n",
    "print(flattened)"
   ]
  },
  {
   "cell_type": "markdown",
   "metadata": {},
   "source": [
    "EJERCICIO 6: Máscaras Booleanas\n",
    "Problema: Filtra elementos de un arreglo usando condiciones booleanas, las cuales permiten filtrar y modificar elementos que cumplen ciertas condiciones. Es una técnica muy poderosa para procesamiento de datos."
   ]
  },
  {
   "cell_type": "code",
   "execution_count": 70,
   "metadata": {},
   "outputs": [
    {
     "name": "stdout",
     "output_type": "stream",
     "text": [
      "Array original: [ 1  5 10 15 20 25]\n",
      "Máscara (arr > 10): [False False False  True  True  True]\n",
      "Elementos mayores a 10: [15 20 25]\n",
      "Array modificado (valores > 10 se vuelven 999): [  1   5  10 999 999 999]\n"
     ]
    }
   ],
   "source": [
    "# Crear array\n",
    "arr = np.array([1, 5, 10, 15, 20, 25])\n",
    "print(\"Array original:\", arr)\n",
    "\n",
    "# Crear máscara booleana\n",
    "mascara = arr > 10\n",
    "print(\"Máscara (arr > 10):\", mascara)\n",
    "print(\"Elementos mayores a 10:\", arr[mascara])\n",
    "\n",
    "# Modificar elementos que cumplen condición\n",
    "arr[arr > 10] = 999\n",
    "print(\"Array modificado (valores > 10 se vuelven 999):\", arr)"
   ]
  },
  {
   "cell_type": "markdown",
   "metadata": {},
   "source": [
    "EJERCICIO 7: Concatenación y Apilamiento\n",
    "Problema: Combina matrices usando diferentes métodos de concatenación, vstack() apila verticalmente (añade filas), hstack() apila horizontalmente (añade columnas)."
   ]
  },
  {
   "cell_type": "code",
   "execution_count": 71,
   "metadata": {},
   "outputs": [
    {
     "name": "stdout",
     "output_type": "stream",
     "text": [
      "Matriz a:\n",
      "[[1 2]\n",
      " [3 4]]\n",
      "\n",
      "Matriz b:\n",
      "[[5 6]\n",
      " [7 8]]\n",
      "\n",
      "Concatenar verticalmente (vstack):\n",
      "[[1 2]\n",
      " [3 4]\n",
      " [5 6]\n",
      " [7 8]]\n",
      "\n",
      "Concatenar horizontalmente (hstack):\n",
      "[[1 2 5 6]\n",
      " [3 4 7 8]]\n"
     ]
    }
   ],
   "source": [
    "# Crear dos matrices\n",
    "a = np.array([[1, 2], [3, 4]])\n",
    "b = np.array([[5, 6], [7, 8]])\n",
    "\n",
    "print(\"Matriz a:\")\n",
    "print(a)\n",
    "print(\"\\nMatriz b:\")\n",
    "print(b)\n",
    "\n",
    "# Concatenar verticalmente\n",
    "print(\"\\nConcatenar verticalmente (vstack):\")\n",
    "print(np.vstack([a, b]))\n",
    "\n",
    "# Concatenar horizontalmente\n",
    "print(\"\\nConcatenar horizontalmente (hstack):\")\n",
    "print(np.hstack([a, b]))"
   ]
  },
  {
   "cell_type": "markdown",
   "metadata": {},
   "source": [
    "EJERCICIO 8: Álgebra Lineal Avanzada\n",
    "Problema: Calcula el determinante, traza, valores propios y vectores propios de una matriz. NumPy incluye funciones de álgebra lineal en np.linalg. Los valores propios y vectores propios son fundamentales en muchos algoritmos de machine learning."
   ]
  },
  {
   "cell_type": "code",
   "execution_count": 72,
   "metadata": {},
   "outputs": [
    {
     "name": "stdout",
     "output_type": "stream",
     "text": [
      "Matriz:\n",
      "[[4 2]\n",
      " [1 3]]\n",
      "\n",
      "Determinante: 10.000000000000002\n",
      "Traza (suma de diagonal): 7\n",
      "\n",
      "Valores propios: [5. 2.]\n",
      "Vectores propios:\n",
      "[[ 0.89442719 -0.70710678]\n",
      " [ 0.4472136   0.70710678]]\n"
     ]
    }
   ],
   "source": [
    "# Crear matriz cuadrada\n",
    "matriz = np.array([[4, 2], [1, 3]])\n",
    "print(\"Matriz:\")\n",
    "print(matriz)\n",
    "\n",
    "# Calcular determinante\n",
    "print(\"\\nDeterminante:\", np.linalg.det(matriz))\n",
    "\n",
    "# Calcular traza (suma de la diagonal)\n",
    "print(\"Traza (suma de diagonal):\", np.trace(matriz))\n",
    "\n",
    "# Calcular valores y vectores propios\n",
    "valores, vectores = np.linalg.eig(matriz)\n",
    "print(\"\\nValores propios:\", valores)\n",
    "print(\"Vectores propios:\")\n",
    "print(vectores)"
   ]
  }
 ],
 "metadata": {
  "colab": {
   "provenance": []
  },
  "kernelspec": {
   "display_name": "rnap",
   "language": "python",
   "name": "python3"
  },
  "language_info": {
   "codemirror_mode": {
    "name": "ipython",
    "version": 3
   },
   "file_extension": ".py",
   "mimetype": "text/x-python",
   "name": "python",
   "nbconvert_exporter": "python",
   "pygments_lexer": "ipython3",
   "version": "3.13.7"
  }
 },
 "nbformat": 4,
 "nbformat_minor": 0
}
